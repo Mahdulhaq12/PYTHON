{
 "cells": [
  {
   "cell_type": "code",
   "execution_count": 1,
   "metadata": {},
   "outputs": [],
   "source": [
    "from selenium import webdriver\n",
    "from selenium.webdriver.common.keys import Keys\n",
    "from selenium.webdriver.support.ui import WebDriverWait,Select\n",
    "from selenium.webdriver.common.by import By\n",
    "from selenium.webdriver.support import expected_conditions as EC\n",
    "from bs4 import BeautifulSoup\n",
    "import time\n",
    "import csv\n",
    "import pandas as pd\n",
    "import mysql.connector"
   ]
  },
  {
   "cell_type": "code",
   "execution_count": 3,
   "metadata": {},
   "outputs": [
    {
     "name": "stderr",
     "output_type": "stream",
     "text": [
      "C:\\Users\\HP\\AppData\\Local\\Temp\\ipykernel_3012\\1449386137.py:1: DeprecationWarning: executable_path has been deprecated, please pass in a Service object\n",
      "  driver = webdriver.Chrome('C:\\chromedriver_win32\\chromedriver.exe')\n"
     ]
    },
    {
     "name": "stdout",
     "output_type": "stream",
     "text": [
      "No more load button\n"
     ]
    }
   ],
   "source": [
    "driver = webdriver.Chrome('C:\\chromedriver_win32\\chromedriver.exe')\n",
    "driver.get('https://www.qlik.com/us/partners/find-a-partner')\n",
    "driver.maximize_window()\n",
    "select = Select(driver.find_element(By.ID,'zl_countryCode'))\n",
    "select.select_by_value(\"US\")\n",
    "time.sleep(3)\n",
    "button = driver.find_element(By.ID, \"zl_show-more-btn\")\n",
    "while True:\n",
    "    button.click()\n",
    "    WebDriverWait(driver,10).until(EC.presence_of_element_located((By.ID,\"zl_show-more-btn\")))\n",
    "    div = driver.find_element(By.ID,\"zl_show-more\")\n",
    "    if div.value_of_css_property(\"display\") == \"none\":\n",
    "        print(\"No more load button\")\n",
    "        break\n",
    "\n"
   ]
  },
  {
   "cell_type": "code",
   "execution_count": null,
   "metadata": {},
   "outputs": [],
   "source": []
  },
  {
   "cell_type": "code",
   "execution_count": 4,
   "metadata": {},
   "outputs": [],
   "source": [
    "\n",
    "\n",
    "soup = BeautifulSoup(driver.page_source,'html.parser')\n",
    "elements = soup.find('div',class_=\"zl_partner-tiles\")\n",
    "stores_partners=[]\n",
    "for row in elements('div',class_=\"zl_partner-tile zl_partner-tile-hover\"):\n",
    "    store={}\n",
    "    store['title']=row.find('div',class_=\"zl_partner-name zl_partner-name-hover\").text\n",
    "    #store['url']=row.a['href']\n",
    "    store['address']=row.find('div',class_=\"zl_partner-address\").get_text(separator = \" \").strip()\n",
    "    stores_partners.append(store)\n",
    "#stores_partners\n",
    "    \n",
    "df=pd.DataFrame.from_dict(stores_partners)\n",
    "df.head(5) \n",
    "\n",
    "\n",
    "\n",
    "#insertqlikpartners(row)\n",
    "    \n",
    "#print(row)\n"
   ]
  },
  {
   "cell_type": "code",
   "execution_count": 6,
   "metadata": {},
   "outputs": [],
   "source": [
    "filename='qlikkpartners.csv'\n",
    "with open(filename,'w',newline='') as f:\n",
    "    w = csv.DictWriter(f,['title','address'])\n",
    "    w.writeheader()\n",
    "    for store in stores_partners:\n",
    "        w.writerow(store)"
   ]
  },
  {
   "cell_type": "code",
   "execution_count": 81,
   "metadata": {},
   "outputs": [
    {
     "name": "stdout",
     "output_type": "stream",
     "text": [
      "Connected\n",
      "1 record(s) inserted.\n"
     ]
    }
   ],
   "source": [
    "# #SQL connection data to connect and save the data in\n",
    "# conn = mysql.connector.connect(user='root', password='', host='127.0.0.1', database='qlikpartners')\n",
    "# if (conn.is_connected()):\n",
    "#     print(\"Connected\")\n",
    "# else:\n",
    "#     print(\"Not connected\")\n",
    "# # Create a table called \"customers\"\n",
    "# mycursor = conn.cursor()\n",
    "# title=store['title']\n",
    "# address=store['address']\n",
    "\n",
    "# q=\"\"\" insert into qlik (title, address) values (%s,%s)\"\"\"\n",
    "# #values=[( store['title'],store['address'])]\n",
    "# values=[title,address]\n",
    "# mycursor.execute(\"DROP TABLE IF EXISTS qlik\")\n",
    "# mycursor.execute(\"CREATE TABLE qlik (title VARCHAR(255), address VARCHAR(255))\")\n",
    "# mycursor.executemany(q, (values,))\n",
    "# conn.commit()\n",
    "\n",
    "# # for i in [stores_partners]:\n",
    "# #     q=\"\"\" insert into qlik (title, address) values (%s,%s)\"\"\"\n",
    "# #     val=(str(i,))\n",
    "# #     mycursor.executemany(q,val)\n",
    "# #     conn.commit\n",
    "\n",
    "# print(mycursor.rowcount, \"record(s) inserted.\")"
   ]
  }
 ],
 "metadata": {
  "kernelspec": {
   "display_name": "myenv",
   "language": "python",
   "name": "python3"
  },
  "language_info": {
   "codemirror_mode": {
    "name": "ipython",
    "version": 3
   },
   "file_extension": ".py",
   "mimetype": "text/x-python",
   "name": "python",
   "nbconvert_exporter": "python",
   "pygments_lexer": "ipython3",
   "version": "3.9.6"
  },
  "orig_nbformat": 4,
  "vscode": {
   "interpreter": {
    "hash": "6e80f644ddedcf3d1db63f4ccd7c469df04fc1fb860e54e39645eb59d5b7aa42"
   }
  }
 },
 "nbformat": 4,
 "nbformat_minor": 2
}
